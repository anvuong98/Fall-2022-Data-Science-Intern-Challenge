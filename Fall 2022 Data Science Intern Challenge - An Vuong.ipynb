{
 "cells": [
  {
   "cell_type": "code",
   "execution_count": 55,
   "metadata": {},
   "outputs": [],
   "source": [
    "import numpy as np\n",
    "import pandas as pd"
   ]
  },
  {
   "cell_type": "markdown",
   "metadata": {},
   "source": [
    "# QUESTION 1"
   ]
  },
  {
   "cell_type": "markdown",
   "metadata": {},
   "source": [
    "### PART A"
   ]
  },
  {
   "cell_type": "code",
   "execution_count": 56,
   "metadata": {},
   "outputs": [],
   "source": [
    "# The file has already been downloaded to my computer so I am calling it directly from here\n",
    "# Create a DataFrame type object called shopify to store all the data inside this row\n",
    "shopify = pd.read_csv('Shopify.csv')"
   ]
  },
  {
   "cell_type": "code",
   "execution_count": 57,
   "metadata": {
    "scrolled": true
   },
   "outputs": [
    {
     "data": {
      "text/html": [
       "<div>\n",
       "<style scoped>\n",
       "    .dataframe tbody tr th:only-of-type {\n",
       "        vertical-align: middle;\n",
       "    }\n",
       "\n",
       "    .dataframe tbody tr th {\n",
       "        vertical-align: top;\n",
       "    }\n",
       "\n",
       "    .dataframe thead th {\n",
       "        text-align: right;\n",
       "    }\n",
       "</style>\n",
       "<table border=\"1\" class=\"dataframe\">\n",
       "  <thead>\n",
       "    <tr style=\"text-align: right;\">\n",
       "      <th></th>\n",
       "      <th>order_id</th>\n",
       "      <th>shop_id</th>\n",
       "      <th>user_id</th>\n",
       "      <th>order_amount</th>\n",
       "      <th>total_items</th>\n",
       "    </tr>\n",
       "  </thead>\n",
       "  <tbody>\n",
       "    <tr>\n",
       "      <th>count</th>\n",
       "      <td>5000.000000</td>\n",
       "      <td>5000.000000</td>\n",
       "      <td>5000.000000</td>\n",
       "      <td>5000.000000</td>\n",
       "      <td>5000.00000</td>\n",
       "    </tr>\n",
       "    <tr>\n",
       "      <th>mean</th>\n",
       "      <td>2500.500000</td>\n",
       "      <td>50.078800</td>\n",
       "      <td>849.092400</td>\n",
       "      <td>3145.128000</td>\n",
       "      <td>8.78720</td>\n",
       "    </tr>\n",
       "    <tr>\n",
       "      <th>std</th>\n",
       "      <td>1443.520003</td>\n",
       "      <td>29.006118</td>\n",
       "      <td>87.798982</td>\n",
       "      <td>41282.539349</td>\n",
       "      <td>116.32032</td>\n",
       "    </tr>\n",
       "    <tr>\n",
       "      <th>min</th>\n",
       "      <td>1.000000</td>\n",
       "      <td>1.000000</td>\n",
       "      <td>607.000000</td>\n",
       "      <td>90.000000</td>\n",
       "      <td>1.00000</td>\n",
       "    </tr>\n",
       "    <tr>\n",
       "      <th>25%</th>\n",
       "      <td>1250.750000</td>\n",
       "      <td>24.000000</td>\n",
       "      <td>775.000000</td>\n",
       "      <td>163.000000</td>\n",
       "      <td>1.00000</td>\n",
       "    </tr>\n",
       "    <tr>\n",
       "      <th>50%</th>\n",
       "      <td>2500.500000</td>\n",
       "      <td>50.000000</td>\n",
       "      <td>849.000000</td>\n",
       "      <td>284.000000</td>\n",
       "      <td>2.00000</td>\n",
       "    </tr>\n",
       "    <tr>\n",
       "      <th>75%</th>\n",
       "      <td>3750.250000</td>\n",
       "      <td>75.000000</td>\n",
       "      <td>925.000000</td>\n",
       "      <td>390.000000</td>\n",
       "      <td>3.00000</td>\n",
       "    </tr>\n",
       "    <tr>\n",
       "      <th>max</th>\n",
       "      <td>5000.000000</td>\n",
       "      <td>100.000000</td>\n",
       "      <td>999.000000</td>\n",
       "      <td>704000.000000</td>\n",
       "      <td>2000.00000</td>\n",
       "    </tr>\n",
       "  </tbody>\n",
       "</table>\n",
       "</div>"
      ],
      "text/plain": [
       "          order_id      shop_id      user_id   order_amount  total_items\n",
       "count  5000.000000  5000.000000  5000.000000    5000.000000   5000.00000\n",
       "mean   2500.500000    50.078800   849.092400    3145.128000      8.78720\n",
       "std    1443.520003    29.006118    87.798982   41282.539349    116.32032\n",
       "min       1.000000     1.000000   607.000000      90.000000      1.00000\n",
       "25%    1250.750000    24.000000   775.000000     163.000000      1.00000\n",
       "50%    2500.500000    50.000000   849.000000     284.000000      2.00000\n",
       "75%    3750.250000    75.000000   925.000000     390.000000      3.00000\n",
       "max    5000.000000   100.000000   999.000000  704000.000000   2000.00000"
      ]
     },
     "execution_count": 57,
     "metadata": {},
     "output_type": "execute_result"
    }
   ],
   "source": [
    "# To obatin a quick statistical overview of this dataset\n",
    "shopify.describe()"
   ]
  },
  {
   "cell_type": "markdown",
   "metadata": {},
   "source": [
    "A quick look will tell us that the maximum value of order_amount column is completely out of bound comparing to the other data in this column. This outlier greatly affect the mean value of the order_amount column, hence, greatly push the AOV value up to $3145"
   ]
  },
  {
   "cell_type": "code",
   "execution_count": 58,
   "metadata": {},
   "outputs": [
    {
     "name": "stdout",
     "output_type": "stream",
     "text": [
      "Wrong value of AOV is the mean of order_amount: $ 3145.128\n"
     ]
    }
   ],
   "source": [
    "print('Wrong value of AOV is the mean of order_amount: $', df.order_amount.mean())"
   ]
  },
  {
   "cell_type": "markdown",
   "metadata": {},
   "source": [
    "There are a few ways to improve this data:\n",
    "\n",
    "Option 1) We get rid of all outliers by picking value only within the interquartile range (IQR)\n",
    "\n",
    "Option 2) We can choose to pick the median of this data set"
   ]
  },
  {
   "cell_type": "markdown",
   "metadata": {},
   "source": [
    "## Option 1 - IQR"
   ]
  },
  {
   "cell_type": "markdown",
   "metadata": {},
   "source": [
    "### PART B"
   ]
  },
  {
   "cell_type": "markdown",
   "metadata": {},
   "source": [
    "We will need to filter this data set to only take in data that has entries in the 'order_amount' to be within the 1st and 3rd quartile. The metric to report after this filter step is still going to be the MEAN."
   ]
  },
  {
   "cell_type": "code",
   "execution_count": 59,
   "metadata": {},
   "outputs": [],
   "source": [
    "Q1 = shopify['order_amount'].quantile(0.25) # 1st quartile of the data\n",
    "Q3 = shopify['order_amount'].quantile(0.75) # 3rd quartile of the data\n",
    "IQR = Q3 - Q1 \n",
    "\n",
    "# range of value where we accept data\n",
    "lower_range = Q1 - 1.5 * IQR\n",
    "upper_range = Q3 + 1.5 * IQR\n",
    "\n",
    "# Filtering Values between Q1-1.5IQR and Q3+1.5IQR \n",
    "shopify_filtered = (shopify.order_amount > lower_range) & (shopify.order_amount < upper_range) # Boolean \n",
    "shopify_filtered = shopify[shopify_filtered] # Slice only the true value that falls within this range"
   ]
  },
  {
   "cell_type": "code",
   "execution_count": 60,
   "metadata": {},
   "outputs": [
    {
     "data": {
      "text/html": [
       "<div>\n",
       "<style scoped>\n",
       "    .dataframe tbody tr th:only-of-type {\n",
       "        vertical-align: middle;\n",
       "    }\n",
       "\n",
       "    .dataframe tbody tr th {\n",
       "        vertical-align: top;\n",
       "    }\n",
       "\n",
       "    .dataframe thead th {\n",
       "        text-align: right;\n",
       "    }\n",
       "</style>\n",
       "<table border=\"1\" class=\"dataframe\">\n",
       "  <thead>\n",
       "    <tr style=\"text-align: right;\">\n",
       "      <th></th>\n",
       "      <th>order_id</th>\n",
       "      <th>shop_id</th>\n",
       "      <th>user_id</th>\n",
       "      <th>order_amount</th>\n",
       "      <th>total_items</th>\n",
       "    </tr>\n",
       "  </thead>\n",
       "  <tbody>\n",
       "    <tr>\n",
       "      <th>count</th>\n",
       "      <td>4859.000000</td>\n",
       "      <td>4859.000000</td>\n",
       "      <td>4859.000000</td>\n",
       "      <td>4859.000000</td>\n",
       "      <td>4859.000000</td>\n",
       "    </tr>\n",
       "    <tr>\n",
       "      <th>mean</th>\n",
       "      <td>2497.395966</td>\n",
       "      <td>49.852645</td>\n",
       "      <td>849.905742</td>\n",
       "      <td>293.715374</td>\n",
       "      <td>1.950196</td>\n",
       "    </tr>\n",
       "    <tr>\n",
       "      <th>std</th>\n",
       "      <td>1443.356555</td>\n",
       "      <td>29.049171</td>\n",
       "      <td>86.887496</td>\n",
       "      <td>144.453395</td>\n",
       "      <td>0.919791</td>\n",
       "    </tr>\n",
       "    <tr>\n",
       "      <th>min</th>\n",
       "      <td>1.000000</td>\n",
       "      <td>1.000000</td>\n",
       "      <td>700.000000</td>\n",
       "      <td>90.000000</td>\n",
       "      <td>1.000000</td>\n",
       "    </tr>\n",
       "    <tr>\n",
       "      <th>25%</th>\n",
       "      <td>1244.500000</td>\n",
       "      <td>24.000000</td>\n",
       "      <td>776.000000</td>\n",
       "      <td>162.000000</td>\n",
       "      <td>1.000000</td>\n",
       "    </tr>\n",
       "    <tr>\n",
       "      <th>50%</th>\n",
       "      <td>2498.000000</td>\n",
       "      <td>50.000000</td>\n",
       "      <td>850.000000</td>\n",
       "      <td>280.000000</td>\n",
       "      <td>2.000000</td>\n",
       "    </tr>\n",
       "    <tr>\n",
       "      <th>75%</th>\n",
       "      <td>3749.500000</td>\n",
       "      <td>74.000000</td>\n",
       "      <td>925.000000</td>\n",
       "      <td>380.000000</td>\n",
       "      <td>3.000000</td>\n",
       "    </tr>\n",
       "    <tr>\n",
       "      <th>max</th>\n",
       "      <td>5000.000000</td>\n",
       "      <td>100.000000</td>\n",
       "      <td>999.000000</td>\n",
       "      <td>730.000000</td>\n",
       "      <td>5.000000</td>\n",
       "    </tr>\n",
       "  </tbody>\n",
       "</table>\n",
       "</div>"
      ],
      "text/plain": [
       "          order_id      shop_id      user_id  order_amount  total_items\n",
       "count  4859.000000  4859.000000  4859.000000   4859.000000  4859.000000\n",
       "mean   2497.395966    49.852645   849.905742    293.715374     1.950196\n",
       "std    1443.356555    29.049171    86.887496    144.453395     0.919791\n",
       "min       1.000000     1.000000   700.000000     90.000000     1.000000\n",
       "25%    1244.500000    24.000000   776.000000    162.000000     1.000000\n",
       "50%    2498.000000    50.000000   850.000000    280.000000     2.000000\n",
       "75%    3749.500000    74.000000   925.000000    380.000000     3.000000\n",
       "max    5000.000000   100.000000   999.000000    730.000000     5.000000"
      ]
     },
     "execution_count": 60,
     "metadata": {},
     "output_type": "execute_result"
    }
   ],
   "source": [
    "# Now, with the outliers filtered, we obtain a better data set\n",
    "shopify_filtered.describe()"
   ]
  },
  {
   "cell_type": "markdown",
   "metadata": {},
   "source": [
    "### PART C"
   ]
  },
  {
   "cell_type": "code",
   "execution_count": 61,
   "metadata": {},
   "outputs": [
    {
     "name": "stdout",
     "output_type": "stream",
     "text": [
      "The AOV of this filtered data set is: $ 293.7153735336489\n"
     ]
    }
   ],
   "source": [
    "print('The AOV of this filtered data set is: $', shopify_filtered['order_amount'].mean())"
   ]
  },
  {
   "cell_type": "raw",
   "metadata": {},
   "source": []
  },
  {
   "cell_type": "markdown",
   "metadata": {},
   "source": [
    "## Option 2: Median"
   ]
  },
  {
   "cell_type": "markdown",
   "metadata": {},
   "source": [
    "### PART B"
   ]
  },
  {
   "cell_type": "markdown",
   "metadata": {},
   "source": [
    "The metric to report here is the median. The median is less affected by outliers. For a smaller data set where we can not afford to get rid of data, this method should be more preferable."
   ]
  },
  {
   "cell_type": "code",
   "execution_count": 62,
   "metadata": {},
   "outputs": [
    {
     "name": "stdout",
     "output_type": "stream",
     "text": [
      "The AOV of the original data set is: $ 284.0\n"
     ]
    }
   ],
   "source": [
    "print('The AOV of the original data set is: $', shopify['order_amount'].median())"
   ]
  },
  {
   "cell_type": "code",
   "execution_count": null,
   "metadata": {},
   "outputs": [],
   "source": []
  },
  {
   "cell_type": "markdown",
   "metadata": {},
   "source": [
    "# QUESTION 2"
   ]
  },
  {
   "cell_type": "markdown",
   "metadata": {},
   "source": [
    "### PART A"
   ]
  },
  {
   "cell_type": "raw",
   "metadata": {},
   "source": [
    "SELECT Count(*) AS total_order\n",
    "FROM Shippers\n",
    "\tINNER JOIN Orders ON Shippers.ShipperID = Orders.ShipperID\n",
    "WHERE Shippers.ShipperName = 'Speedy Express';"
   ]
  },
  {
   "cell_type": "markdown",
   "metadata": {},
   "source": [
    "The Shippers and Orders table are joined by ShipperID. From here, the total number all 'Speedy Express' shipping is counted and printed out. "
   ]
  },
  {
   "cell_type": "raw",
   "metadata": {},
   "source": [
    "OUTPUT: total_order\n",
    "        54"
   ]
  },
  {
   "cell_type": "markdown",
   "metadata": {},
   "source": [
    "### PART B"
   ]
  },
  {
   "cell_type": "raw",
   "metadata": {},
   "source": [
    "SELECT \n",
    "\tLastName,\n",
    "\tMAX(number_of_order) as max_item\n",
    "FROM(       \n",
    "\tSELECT \n",
    "\t\tEmployees.LastName,\n",
    "\t\tCount() AS number_of_order\n",
    "\tFROM Orders\n",
    "\t\tINNER JOIN Employees ON Employees.EmployeeID = Orders.EmployeeID\n",
    "\tGROUP BY Employees.LastName\n",
    "\tORDER BY number_of_order DESC);"
   ]
  },
  {
   "cell_type": "markdown",
   "metadata": {},
   "source": [
    "The Orders and Employees table are joined by EmployeeID. Employees' Last Name and its count is tabulated into a new list. The last name with the most count is called out of this list."
   ]
  },
  {
   "cell_type": "raw",
   "metadata": {},
   "source": [
    "OUTPUT: LastName\tmax_item\n",
    "        Peacock\t    40"
   ]
  },
  {
   "cell_type": "code",
   "execution_count": 63,
   "metadata": {},
   "outputs": [],
   "source": [
    "### PART C"
   ]
  },
  {
   "cell_type": "raw",
   "metadata": {},
   "source": [
    "SELECT\n",
    "\tProductName AS product_most_ordered_in_germany,\n",
    "    \tMAX(num_of_order) AS total_order\n",
    "FROM(\n",
    "\tSELECT\n",
    "    \t\tProducts.ProductName,\n",
    "        \tSUM(OrderDetails.Quantity) AS num_of_order\n",
    "\tFROM Orders\n",
    "    \t\tINNER JOIN OrderDetails ON OrderDetails.OrderID = Orders.OrderID\n",
    "        \tINNER JOIN Products ON Products.ProductID = OrderDetails.ProductID\n",
    "        \tINNER JOIN Customers ON Customers.CustomerID = Orders.CustomerID\n",
    "\tWHERE Country = 'Germany'\n",
    "\tGROUP BY Products.ProductName \n",
    "\tORDER BY num_of_order DESC);"
   ]
  },
  {
   "cell_type": "markdown",
   "metadata": {},
   "source": [
    "The Orders, OrderDetails, Product and Customers are joined together by OrderID, ProductID and CustomerID. Product Name and the total number of order associated to it are tabulated into a new list. Note that only the entries with Country is Germany are kept. The product with the most count is called out of this list.  "
   ]
  },
  {
   "cell_type": "raw",
   "metadata": {},
   "source": [
    "OUTPUT: product_most_ordered_in_germany\t   total_order\n",
    "        Boston Crab Meat\t               160"
   ]
  }
 ],
 "metadata": {
  "kernelspec": {
   "display_name": "Python 3",
   "language": "python",
   "name": "python3"
  },
  "language_info": {
   "codemirror_mode": {
    "name": "ipython",
    "version": 3
   },
   "file_extension": ".py",
   "mimetype": "text/x-python",
   "name": "python",
   "nbconvert_exporter": "python",
   "pygments_lexer": "ipython3",
   "version": "3.8.3"
  }
 },
 "nbformat": 4,
 "nbformat_minor": 4
}
